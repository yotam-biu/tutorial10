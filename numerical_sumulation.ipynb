{
  "cells": [
    {
      "cell_type": "markdown",
      "metadata": {
        "id": "view-in-github",
        "colab_type": "text"
      },
      "source": [
        "<a href=\"https://colab.research.google.com/github/yotam-biu/tutorial10/blob/main/numerical_sumulation.ipynb\" target=\"_parent\"><img src=\"https://colab.research.google.com/assets/colab-badge.svg\" alt=\"Open In Colab\"/></a>"
      ]
    },
    {
      "cell_type": "code",
      "execution_count": null,
      "id": "bc6bc21e",
      "metadata": {
        "id": "bc6bc21e"
      },
      "outputs": [],
      "source": [
        "import random # for generate a random number\n",
        "\n",
        "# for plots:\n",
        "import matplotlib.pyplot as plt\n",
        "from IPython.display import display, clear_output"
      ]
    },
    {
      "cell_type": "markdown",
      "id": "313188fb",
      "metadata": {
        "id": "313188fb"
      },
      "source": [
        "# Predator–Prey Equations"
      ]
    },
    {
      "cell_type": "markdown",
      "id": "fc8b6401",
      "metadata": {
        "id": "fc8b6401"
      },
      "source": [
        "The Lotka-Volterra equations are a pair of differential equations used to model the interaction between predator and prey populations in an ecosystem. The equations describe the changes in the two populations over time, with the predator population increasing as it preys on the prey population, and the prey population decreasing as it is consumed by the predators. The equations are also known as the predator-prey equations.\n",
        "\n",
        "The Lotka-Volterra equations can be written as:\n",
        "\n",
        "$$\\frac{dP}{dt} = aP - bPQ$$\n",
        "\n",
        "$$\\frac{dQ}{dt} = -cQ + dPQ$$\n",
        "\n",
        "where:\n",
        "\n",
        "* P represents the population of the prey species\n",
        "* Q represents the population of the predator species\n",
        "* a represents the natural growth rate of the prey population in the absence of predators\n",
        "* b represents the rate at which predators consume prey\n",
        "* c represents the natural mortality rate of the predator population in the absence of prey\n",
        "* d represents the rate at which predators increase in population as they consume prey.\n",
        "\n",
        "The first equation describes the change in the prey population over time. The first term, aP, represents the natural growth of the prey population, while the second term, bPQ, represents the predation of the prey population by the predators.\n",
        "\n",
        "The second equation describes the change in the predator population over time. The first term, -cQ, represents the natural mortality of the predator population, while the second term, dPQ, represents the increase in the predator population as a result of consuming prey.\n",
        "\n",
        "The Lotka-Volterra equations assume that the interactions between the predator and prey populations are the only factors affecting their populations, and that the populations are continuous and not affected by external factors such as immigration or emigration."
      ]
    },
    {
      "cell_type": "code",
      "execution_count": null,
      "id": "dc6640eb",
      "metadata": {
        "id": "dc6640eb"
      },
      "outputs": [],
      "source": [
        "# Define the Lotka-Volterra equations\n",
        "def lotka_volterra(x, y, a, b, c, d):\n",
        "    dxdt = a*x - b*x*y\n",
        "    dydt = d*x*y - c*y\n",
        "    return dxdt, dydt"
      ]
    },
    {
      "cell_type": "markdown",
      "id": "b33d3b01",
      "metadata": {
        "id": "b33d3b01"
      },
      "source": [
        "This code is intended to generate three lists: one containing the recorded times, another with the corresponding prey population for each time step, and a third with the corresponding predator population for each time step. Subsequently, it will produce two plots showing the prey population versus time and the predator population versus time.\n",
        "\n",
        "Note that we can obtain the changes in the population from the differential equation using the expression: $dx = \\left(dx/dt\\right) * dt$, where $dx$ represents the differences in the population and $dt$ represents the time step."
      ]
    },
    {
      "cell_type": "code",
      "execution_count": null,
      "id": "829a3100",
      "metadata": {
        "id": "829a3100"
      },
      "outputs": [],
      "source": [
        "# Define the initial population sizes and parameter values\n",
        "x0 = 10  # initial number of prey\n",
        "y0 = 5   # initial number of predators\n",
        "a = 0.5  # prey growth rate\n",
        "b = 0.02 # predation rate\n",
        "c = 0.3 # predator death rate\n",
        "d = 0.01 # conversion efficiency\n",
        "\n",
        "# Define the simulation parameters\n",
        "t0 = 0    # starting time\n",
        "tf = 100  # ending time\n",
        "dt = 0.1  # time step\n",
        "\n",
        "# Initialize the populations and time vector\n",
        "x = [x0]\n",
        "y = [y0]\n",
        "t = [t0]\n",
        "\n",
        "# Run the simulation using the Euler method\n",
        "for i in range(int((tf-t0)/dt)):\n",
        "    dxdt, dydt = lotka_volterra(x[-1], y[-1], a, b, c, d)\n",
        "    #  You need to complete your section of the code here. <------------\n",
        "\n",
        "# Plot the results\n",
        "plt.plot(t, x, label='prey')\n",
        "plt.plot(t, y, label='predators')\n",
        "plt.xlabel('Time')\n",
        "plt.ylabel('Population Size')\n",
        "plt.title('Lotka-Volterra Model')\n",
        "plt.legend()\n",
        "plt.show()"
      ]
    }
  ],
  "metadata": {
    "kernelspec": {
      "display_name": "Python 3 (ipykernel)",
      "language": "python",
      "name": "python3"
    },
    "language_info": {
      "codemirror_mode": {
        "name": "ipython",
        "version": 3
      },
      "file_extension": ".py",
      "mimetype": "text/x-python",
      "name": "python",
      "nbconvert_exporter": "python",
      "pygments_lexer": "ipython3",
      "version": "3.9.16"
    },
    "colab": {
      "provenance": [],
      "include_colab_link": true
    }
  },
  "nbformat": 4,
  "nbformat_minor": 5
}