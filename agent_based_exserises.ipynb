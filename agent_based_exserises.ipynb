{
  "cells": [
    {
      "cell_type": "markdown",
      "metadata": {
        "id": "view-in-github",
        "colab_type": "text"
      },
      "source": [
        "<a href=\"https://colab.research.google.com/github/yotam-biu/tutorial10/blob/main/agent_based_exserises.ipynb\" target=\"_parent\"><img src=\"https://colab.research.google.com/assets/colab-badge.svg\" alt=\"Open In Colab\"/></a>"
      ]
    },
    {
      "cell_type": "markdown",
      "source": [
        "# Introduction to Nested Lists and Basic Matrix Operations in Python"
      ],
      "metadata": {
        "id": "GA5UpFWUbv2B"
      },
      "id": "GA5UpFWUbv2B"
    },
    {
      "cell_type": "markdown",
      "source": [
        "* 1. Create a list of 5 zeros"
      ],
      "metadata": {
        "id": "_jqgB2OPZhM0"
      },
      "id": "_jqgB2OPZhM0"
    },
    {
      "cell_type": "code",
      "source": [],
      "metadata": {
        "id": "CE4MQVxHZj88"
      },
      "id": "CE4MQVxHZj88",
      "execution_count": null,
      "outputs": []
    },
    {
      "cell_type": "markdown",
      "source": [
        "* 2. Update the 3rd element in the row from the value 0 to the value 1 (remember that indexing starts at 0)\n",
        "\n",
        "\n",
        "\n",
        "\n",
        "\n"
      ],
      "metadata": {
        "id": "STl8FL1aZkam"
      },
      "id": "STl8FL1aZkam"
    },
    {
      "cell_type": "code",
      "source": [],
      "metadata": {
        "id": "XpxjDCqeZnv6"
      },
      "id": "XpxjDCqeZnv6",
      "execution_count": null,
      "outputs": []
    },
    {
      "cell_type": "markdown",
      "source": [
        "* 3. Create a 5x5 matrix filled with zeros, using a nested list (lists inside a list)\n",
        "\n",
        "\n",
        "\n",
        "\n"
      ],
      "metadata": {
        "id": "196W7UlYZoPu"
      },
      "id": "196W7UlYZoPu"
    },
    {
      "cell_type": "code",
      "source": [],
      "metadata": {
        "id": "6MEge4Y8Zol0"
      },
      "id": "6MEge4Y8Zol0",
      "execution_count": null,
      "outputs": []
    },
    {
      "cell_type": "markdown",
      "source": [
        "* 4. Update the value in the 2nd row and 4th column to 1\n"
      ],
      "metadata": {
        "id": "Nk2LK-ONZo99"
      },
      "id": "Nk2LK-ONZo99"
    },
    {
      "cell_type": "code",
      "source": [],
      "metadata": {
        "id": "ZzjSowDmZpsa"
      },
      "id": "ZzjSowDmZpsa",
      "execution_count": null,
      "outputs": []
    },
    {
      "cell_type": "markdown",
      "source": [
        "* 5. Set all elements in the matrix to 1\n"
      ],
      "metadata": {
        "id": "o_CUuDd5arx0"
      },
      "id": "o_CUuDd5arx0"
    },
    {
      "cell_type": "code",
      "source": [],
      "metadata": {
        "id": "vjCQsPyBasQY"
      },
      "id": "vjCQsPyBasQY",
      "execution_count": null,
      "outputs": []
    },
    {
      "cell_type": "markdown",
      "source": [
        "* 6. Replace all values in the matrix with 0 or 1 based on a random condition:\n",
        "If a random number (between 0 and 1) is less than 0.5, set the value to 1.\n",
        "Otherwise, set it to 0."
      ],
      "metadata": {
        "id": "27UWLz8hasvu"
      },
      "id": "27UWLz8hasvu"
    },
    {
      "cell_type": "code",
      "source": [],
      "metadata": {
        "id": "513vkiRgatHx"
      },
      "id": "513vkiRgatHx",
      "execution_count": null,
      "outputs": []
    },
    {
      "cell_type": "markdown",
      "source": [
        "* 7. Collect the values of the neighboring elements around the element located in the 2nd row and 4th column into a list.\n"
      ],
      "metadata": {
        "id": "S-_yBTRFatuO"
      },
      "id": "S-_yBTRFatuO"
    },
    {
      "cell_type": "code",
      "source": [],
      "metadata": {
        "id": "b0WtWUiHauI5"
      },
      "id": "b0WtWUiHauI5",
      "execution_count": null,
      "outputs": []
    },
    {
      "cell_type": "markdown",
      "source": [
        "* 8. Create an exact copy of the matrix and assign it to a new variable named \"new_mat\"\n"
      ],
      "metadata": {
        "id": "iJB4f8kDauf3"
      },
      "id": "iJB4f8kDauf3"
    },
    {
      "cell_type": "code",
      "source": [],
      "metadata": {
        "id": "gPv9nrLFau1F"
      },
      "id": "gPv9nrLFau1F",
      "execution_count": null,
      "outputs": []
    },
    {
      "cell_type": "markdown",
      "source": [
        "# Code Reading Pre-Assignment: Understand the Forest Grid Simulation"
      ],
      "metadata": {
        "id": "vJvyGzA_b1H-"
      },
      "id": "vJvyGzA_b1H-"
    },
    {
      "cell_type": "markdown",
      "source": [
        "* Read the following code carefully and explain in your own words what the code does:\n",
        "\n",
        "```python\n",
        "# set up the grid\n",
        "grid_size = 30\n",
        "p_tree = 0.6  # probability that a cell contains a tree\n",
        "\n",
        "grid = []\n",
        "for _ in range(grid_size):\n",
        "    grid = []\n",
        "    for _ in range(grid_size):\n",
        "        row.append(0) # Cell with no tree\n",
        "    grid.append(row)\n",
        "\n",
        "for i in range(grid_size):\n",
        "    for j in range(grid_size):\n",
        "        if random.random() < p_tree:\n",
        "            grid[i][j] = 1 # Cell that contains a tree\n",
        "grid[grid_size//2][grid_size//2] = 2 # One tree is initially on fire\n",
        "```\n",
        "\n",
        "\n",
        "Questions for Reflection:\n",
        "1. What is the purpose of the variable p_tree?\n",
        "2. How does the code decide whether a cell contains a tree or remains empty?\n",
        "3. What is the significance of the value 2 assigned to the center of the grid?\n",
        "4. How might this grid be used in a simulation?\n",
        "\n",
        "\n"
      ],
      "metadata": {
        "id": "uOI9ev-Ecn-r"
      },
      "id": "uOI9ev-Ecn-r"
    },
    {
      "cell_type": "markdown",
      "source": [
        "Read the following function carefully and explain in your own words what it does.\n",
        "\n",
        "```python\n",
        "# define the rules for spreading the fire\n",
        "def spread_fire(grid):\n",
        "\n",
        "    # update_grid = [[grid[i][j] for j in range(grid_size)] for i in range(grid_size)]\n",
        "    update_grid = copy.deepcopy(grid)\n",
        "    for i in range(grid_size-1):\n",
        "        for j in range(grid_size-1):\n",
        "            if grid[i][j] == 1:\n",
        "                neighbors = [grid[i-1][j],grid[i+1][j],grid[i][j-1],grid[i][j+1]]\n",
        "                if 2 in neighbors:\n",
        "                    update_grid[i][j] = 2\n",
        "\n",
        "    return update_grid\n",
        "```\n",
        "\n",
        "\n",
        "Questions for Reflection:\n",
        "1. What does the function spread_fire simulate?\n",
        "2. What is the purpose of creating a copy of the grid (update_grid)?\n",
        "3. How does the function decide whether a tree will catch fire?\n",
        "4. What are the inputs and outputs of the function?\n",
        "5. Why do the loops go up to grid_size - 1 rather than grid_size?"
      ],
      "metadata": {
        "id": "oJg0QbhddOb_"
      },
      "id": "oJg0QbhddOb_"
    },
    {
      "cell_type": "markdown",
      "source": [
        "# Main Assignment: Spread Fire Simulation"
      ],
      "metadata": {
        "id": "QuVz4VhAZy4h"
      },
      "id": "QuVz4VhAZy4h"
    },
    {
      "cell_type": "code",
      "execution_count": null,
      "id": "21eb7942",
      "metadata": {
        "id": "21eb7942"
      },
      "outputs": [],
      "source": [
        "\n",
        "import random # for generate a random number\n",
        "import copy # to create a copy in memory of an object\n",
        "\n",
        "# for plots:\n",
        "import matplotlib.pyplot as plt\n",
        "from IPython.display import display, clear_output\n"
      ]
    },
    {
      "cell_type": "markdown",
      "source": [
        "The spread fire model is a simulation that represents the propagation of fire across a two-dimensional grid of cells. The model considers the status of each cell, which can be either \"burning\" or \"unburned.\" The simulation proceeds in discrete time steps, during which the status of each cell is updated based on certain rules.\n",
        "\n",
        "The code for the spread fire model typically involves the following steps:\n",
        "\n",
        "* Initializing the grid: The two-dimensional grid is created and each cell is assigned an initial status (e.g., tree - randomly, and one cell on fire).\n",
        "\n",
        "* Updating the status of each cell: For each time step, the status of each cell is updated based on a set of rules. In general, an unburned cell may ignite if one of its neighbors is burning.\n",
        "\n",
        "* Visualizing the grid: The updated grid is typically visualized as an image or animation, which shows the progression of the fire over time..\n",
        "\n",
        "The spread fire model can be used to study the behavior of fires under different conditions and to evaluate strategies for fire prevention and control."
      ],
      "metadata": {
        "id": "z4HeVbFFZu2-"
      },
      "id": "z4HeVbFFZu2-"
    },
    {
      "cell_type": "code",
      "source": [
        "def initialize_forest(grid_size=30, p_tree=0.6):\n",
        "    \"\"\"Initialize a grid for the forest fire simulation.\"\"\"\n",
        "    # Build an empty grid\n",
        "    grid = []\n",
        "    for _ in range(grid_size):\n",
        "        row = [0] * grid_size\n",
        "        grid.append(row)\n",
        "\n",
        "    # Assign trees randomly to the cells\n",
        "    for i in range(grid_size):\n",
        "        for j in range(grid_size):\n",
        "            if random.random() < p_tree:\n",
        "                grid[i][j] = 1\n",
        "\n",
        "    # Set the center tree on fire\n",
        "    grid[grid_size // 2][grid_size // 2] = 2\n",
        "\n",
        "    return grid\n",
        "\n"
      ],
      "metadata": {
        "id": "hmg2tO1Papeo"
      },
      "id": "hmg2tO1Papeo",
      "execution_count": null,
      "outputs": []
    },
    {
      "cell_type": "code",
      "source": [
        "# define the rules for spreading the fire\n",
        "def spread_fire(grid):\n",
        "    \"\"\"Update the forest grid based on fire spreading rules.\"\"\"\n",
        "    update_grid = copy.deepcopy(grid)\n",
        "    for i in range(grid_size-1):\n",
        "        for j in range(grid_size-1):\n",
        "            if grid[i][j] == 1:\n",
        "                neighbors = [grid[i-1][j],grid[i+1][j],grid[i][j-1],grid[i][j+1]]\n",
        "                if 2 in neighbors:\n",
        "                    update_grid[i][j] = 2\n",
        "\n",
        "    return update_grid"
      ],
      "metadata": {
        "id": "zMTB2x0ZaFlJ"
      },
      "id": "zMTB2x0ZaFlJ",
      "execution_count": null,
      "outputs": []
    },
    {
      "cell_type": "code",
      "execution_count": null,
      "id": "3cd71ee7",
      "metadata": {
        "id": "3cd71ee7",
        "outputId": "c52ca9df-6464-4cc1-84a9-e7acd5bd5e5b",
        "colab": {
          "base_uri": "https://localhost:8080/",
          "height": 452
        }
      },
      "outputs": [
        {
          "output_type": "display_data",
          "data": {
            "text/plain": [
              "<Figure size 640x480 with 1 Axes>"
            ],
            "image/png": "[encoded data removed]"
          },
          "metadata": {}
        }
      ],
      "source": [
        "\n",
        "\n",
        "# Set up the grid\n",
        "grid_size = 30\n",
        "p_tree = 0.6  # Probability that a cell contains a tree\n",
        "\n",
        "grid = initialize_forest(grid_size, p_tree)\n",
        "\n",
        "# run the simulation\n",
        "fig, ax = plt.subplots()\n",
        "for i in range(100):\n",
        "    update_grid = spread_fire(grid)\n",
        "    if update_grid == grid:\n",
        "        break\n",
        "    grid = update_grid\n",
        "    ax.imshow(grid, cmap='YlOrRd', vmin=0, vmax=2)\n",
        "    ax.set_title(f'Step {i}')\n",
        "    display(fig)\n",
        "    clear_output(wait = True)\n",
        "    plt.pause(0.01)"
      ]
    },
    {
      "cell_type": "markdown",
      "id": "50277ffd",
      "metadata": {
        "id": "50277ffd"
      },
      "source": [
        "Please note that the cells on the right and bottom edges appear to be unexpectedly protected. Could you please update the code to account for these cells as well?"
      ]
    }
  ],
  "metadata": {
    "kernelspec": {
      "display_name": "Python 3 (ipykernel)",
      "language": "python",
      "name": "python3"
    },
    "language_info": {
      "codemirror_mode": {
        "name": "ipython",
        "version": 3
      },
      "file_extension": ".py",
      "mimetype": "text/x-python",
      "name": "python",
      "nbconvert_exporter": "python",
      "pygments_lexer": "ipython3",
      "version": "3.9.16"
    },
    "colab": {
      "provenance": [],
      "include_colab_link": true
    }
  },
  "nbformat": 4,
  "nbformat_minor": 5
}